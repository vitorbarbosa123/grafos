{
  "nbformat": 4,
  "nbformat_minor": 0,
  "metadata": {
    "colab": {
      "name": "EI02 (Vitor Barbosa) - 2021.1 - JGraphT.ipynb",
      "provenance": [],
      "collapsed_sections": [
        "IahffdhA-AEO",
        "ot0HL2OMBo2i"
      ],
      "include_colab_link": true
    },
    "kernelspec": {
      "name": "python3",
      "display_name": "Python 3"
    }
  },
  "cells": [
    {
      "cell_type": "markdown",
      "metadata": {
        "id": "view-in-github",
        "colab_type": "text"
      },
      "source": [
        "<a href=\"https://colab.research.google.com/github/vitorbarbosa123/grafos/blob/master/EI02_2021_1_JGraphT.ipynb\" target=\"_parent\"><img src=\"https://colab.research.google.com/assets/colab-badge.svg\" alt=\"Open In Colab\"/></a>"
      ]
    },
    {
      "cell_type": "markdown",
      "metadata": {
        "id": "cLuSWE2no1iX"
      },
      "source": [
        "# EI02 - JGraphT - Criação e Importação de Grafos\n",
        "\n",
        "Este notebook apresenta, a avaliação EI02 sobre atividades básicas para criação e importação de grafos não-direcionados usando a API [JGraphT](https://jgrapht.org/).\n",
        "\n",
        "Referências:\n",
        "- Notebooks das aulas anteriores\n",
        "\n",
        "- Docs Python Bindings: https://python-jgrapht.readthedocs.io/en/jgrapht-1.5.0.3/\n",
        "\n",
        "*Atenção:* Os blocos de código neste roteiro, especialmente referentes a instalação e importação e definições auxiliares, devem ser executados na sequência em que são apresentados abaixo, antes de cada uso deste notebook, a fim de garantir que as definições necessárias em cada trecho foram devidamente importadas/criadas."
      ]
    },
    {
      "cell_type": "markdown",
      "metadata": {
        "id": "IahffdhA-AEO"
      },
      "source": [
        "# Instalação da JGraphT e Importação de Pacotes e Arquivos deste Notebook"
      ]
    },
    {
      "cell_type": "markdown",
      "metadata": {
        "id": "laZhcafFgYwT"
      },
      "source": [
        "Python bindings pode ser instalado usando pip no escopo de qualquer interpretador python. \n",
        "Abaixo, temos a instalação para este notebook e a importação de bibliotecas e arquivos que usaremos a seguir."
      ]
    },
    {
      "cell_type": "code",
      "metadata": {
        "id": "yypJWljzsCEd",
        "colab": {
          "base_uri": "https://localhost:8080/"
        },
        "outputId": "b28d99fa-2547-41ce-f13e-ae13594554b4"
      },
      "source": [
        "# Instalando a JgraphT para uso neste notebook\n",
        "!pip install jgrapht\n",
        "\n",
        "# Importando a JgraphT\n",
        "import jgrapht\n",
        "\n",
        "# Importanto funções para print de vértices e arestas\n",
        "!wget https://raw.githubusercontent.com/pdlmachado/GraphTheory-JGraphT/master/src/main/java/python/drawutil.py\n",
        "!wget https://raw.githubusercontent.com/pdlmachado/GraphTheory-JGraphT/master/src/main/java/python/importutil.py\n",
        "!wget https://raw.githubusercontent.com/pdlmachado/GraphTheory-JGraphT/master/src/main/java/python/getutil.py\n",
        "from drawutil import draw_graph\n",
        "from importutil import import_gml\n",
        "from getutil import get_vertexid,get_vertice_labels,get_edge_labels\n",
        "\n",
        "# Download de arquivos de grafos usados neste notebook\n",
        "!wget https://raw.githubusercontent.com/pdlmachado/GraphTheory-JGraphT/master/src/main/java/graphs/bp1.gml\n",
        "!wget https://raw.githubusercontent.com/pdlmachado/GraphTheory-JGraphT/master/src/main/java/graphs/cubo.gml\n",
        "!wget https://raw.githubusercontent.com/pdlmachado/GraphTheory-JGraphT/master/src/main/java/graphs/acyclic.gml\n",
        "!wget https://raw.githubusercontent.com/pdlmachado/GraphTheory-JGraphT/master/src/main/java/graphs/K5.gml\n",
        "!wget https://raw.githubusercontent.com/pdlmachado/GraphTheory-JGraphT/master/src/main/java/graphs/pseudograph-Aula02.gml\n",
        "!wget https://raw.githubusercontent.com/pdlmachado/GraphTheory-JGraphT/master/src/main/java/graphs/cycle5.gml\n",
        "\n",
        "# Funções e pacotes para teste\n",
        "import unittest\n",
        "# From: https://eli.thegreenplace.net/2011/08/02/python-unit-testing-parametrized-test-cases\n",
        "class ParametrizedTestCase(unittest.TestCase):\n",
        "    \"\"\" TestCase classes that want to be parametrized should\n",
        "        inherit from this class.\n",
        "    \"\"\"\n",
        "    def __init__(self, methodName='runTest', param=None):\n",
        "        super(ParametrizedTestCase, self).__init__(methodName)\n",
        "        self.param = param\n",
        "\n",
        "    @staticmethod\n",
        "    def parametrize(testcase_klass, param=None):\n",
        "        \"\"\" Create a suite containing all tests taken from the given\n",
        "            subclass, passing them the parameter 'param'.\n",
        "        \"\"\"\n",
        "        testloader = unittest.TestLoader()\n",
        "        testnames = testloader.getTestCaseNames(testcase_klass)\n",
        "        suite = unittest.TestSuite()\n",
        "        for name in testnames:\n",
        "            suite.addTest(testcase_klass(name, param=param))\n",
        "        return suite\n"
      ],
      "execution_count": null,
      "outputs": [
        {
          "output_type": "stream",
          "name": "stdout",
          "text": [
            "Collecting jgrapht\n",
            "  Downloading jgrapht-1.5.0.3-cp37-cp37m-manylinux2010_x86_64.whl (9.8 MB)\n",
            "\u001b[K     |████████████████████████████████| 9.8 MB 4.6 MB/s \n",
            "\u001b[?25hInstalling collected packages: jgrapht\n",
            "Successfully installed jgrapht-1.5.0.3\n",
            "--2021-11-29 12:57:23--  https://raw.githubusercontent.com/pdlmachado/GraphTheory-JGraphT/master/src/main/java/python/drawutil.py\n",
            "Resolving raw.githubusercontent.com (raw.githubusercontent.com)... 185.199.109.133, 185.199.110.133, 185.199.111.133, ...\n",
            "Connecting to raw.githubusercontent.com (raw.githubusercontent.com)|185.199.109.133|:443... connected.\n",
            "HTTP request sent, awaiting response... 200 OK\n",
            "Length: 6595 (6.4K) [text/plain]\n",
            "Saving to: ‘drawutil.py’\n",
            "\n",
            "drawutil.py         100%[===================>]   6.44K  --.-KB/s    in 0s      \n",
            "\n",
            "2021-11-29 12:57:23 (78.8 MB/s) - ‘drawutil.py’ saved [6595/6595]\n",
            "\n",
            "--2021-11-29 12:57:23--  https://raw.githubusercontent.com/pdlmachado/GraphTheory-JGraphT/master/src/main/java/python/importutil.py\n",
            "Resolving raw.githubusercontent.com (raw.githubusercontent.com)... 185.199.111.133, 185.199.109.133, 185.199.108.133, ...\n",
            "Connecting to raw.githubusercontent.com (raw.githubusercontent.com)|185.199.111.133|:443... connected.\n",
            "HTTP request sent, awaiting response... 200 OK\n",
            "Length: 6962 (6.8K) [text/plain]\n",
            "Saving to: ‘importutil.py’\n",
            "\n",
            "importutil.py       100%[===================>]   6.80K  --.-KB/s    in 0s      \n",
            "\n",
            "2021-11-29 12:57:23 (73.4 MB/s) - ‘importutil.py’ saved [6962/6962]\n",
            "\n",
            "--2021-11-29 12:57:23--  https://raw.githubusercontent.com/pdlmachado/GraphTheory-JGraphT/master/src/main/java/python/getutil.py\n",
            "Resolving raw.githubusercontent.com (raw.githubusercontent.com)... 185.199.108.133, 185.199.109.133, 185.199.110.133, ...\n",
            "Connecting to raw.githubusercontent.com (raw.githubusercontent.com)|185.199.108.133|:443... connected.\n",
            "HTTP request sent, awaiting response... 200 OK\n",
            "Length: 7413 (7.2K) [text/plain]\n",
            "Saving to: ‘getutil.py’\n",
            "\n",
            "getutil.py          100%[===================>]   7.24K  --.-KB/s    in 0s      \n",
            "\n",
            "2021-11-29 12:57:26 (42.7 MB/s) - ‘getutil.py’ saved [7413/7413]\n",
            "\n",
            "--2021-11-29 12:57:26--  https://raw.githubusercontent.com/pdlmachado/GraphTheory-JGraphT/master/src/main/java/graphs/bp1.gml\n",
            "Resolving raw.githubusercontent.com (raw.githubusercontent.com)... 185.199.108.133, 185.199.109.133, 185.199.110.133, ...\n",
            "Connecting to raw.githubusercontent.com (raw.githubusercontent.com)|185.199.108.133|:443... connected.\n",
            "HTTP request sent, awaiting response... 200 OK\n",
            "Length: 2833 (2.8K) [text/plain]\n",
            "Saving to: ‘bp1.gml’\n",
            "\n",
            "bp1.gml             100%[===================>]   2.77K  --.-KB/s    in 0s      \n",
            "\n",
            "2021-11-29 12:57:26 (47.9 MB/s) - ‘bp1.gml’ saved [2833/2833]\n",
            "\n",
            "--2021-11-29 12:57:26--  https://raw.githubusercontent.com/pdlmachado/GraphTheory-JGraphT/master/src/main/java/graphs/cubo.gml\n",
            "Resolving raw.githubusercontent.com (raw.githubusercontent.com)... 185.199.108.133, 185.199.109.133, 185.199.110.133, ...\n",
            "Connecting to raw.githubusercontent.com (raw.githubusercontent.com)|185.199.108.133|:443... connected.\n",
            "HTTP request sent, awaiting response... 200 OK\n",
            "Length: 5750 (5.6K) [text/plain]\n",
            "Saving to: ‘cubo.gml’\n",
            "\n",
            "cubo.gml            100%[===================>]   5.62K  --.-KB/s    in 0s      \n",
            "\n",
            "2021-11-29 12:57:26 (57.0 MB/s) - ‘cubo.gml’ saved [5750/5750]\n",
            "\n",
            "--2021-11-29 12:57:27--  https://raw.githubusercontent.com/pdlmachado/GraphTheory-JGraphT/master/src/main/java/graphs/acyclic.gml\n",
            "Resolving raw.githubusercontent.com (raw.githubusercontent.com)... 185.199.108.133, 185.199.109.133, 185.199.110.133, ...\n",
            "Connecting to raw.githubusercontent.com (raw.githubusercontent.com)|185.199.108.133|:443... connected.\n",
            "HTTP request sent, awaiting response... 200 OK\n",
            "Length: 3658 (3.6K) [text/plain]\n",
            "Saving to: ‘acyclic.gml’\n",
            "\n",
            "acyclic.gml         100%[===================>]   3.57K  --.-KB/s    in 0s      \n",
            "\n",
            "2021-11-29 12:57:27 (45.3 MB/s) - ‘acyclic.gml’ saved [3658/3658]\n",
            "\n",
            "--2021-11-29 12:57:27--  https://raw.githubusercontent.com/pdlmachado/GraphTheory-JGraphT/master/src/main/java/graphs/K5.gml\n",
            "Resolving raw.githubusercontent.com (raw.githubusercontent.com)... 185.199.108.133, 185.199.109.133, 185.199.110.133, ...\n",
            "Connecting to raw.githubusercontent.com (raw.githubusercontent.com)|185.199.108.133|:443... connected.\n",
            "HTTP request sent, awaiting response... 200 OK\n",
            "Length: 2051 (2.0K) [text/plain]\n",
            "Saving to: ‘K5.gml’\n",
            "\n",
            "K5.gml              100%[===================>]   2.00K  --.-KB/s    in 0s      \n",
            "\n",
            "2021-11-29 12:57:27 (43.1 MB/s) - ‘K5.gml’ saved [2051/2051]\n",
            "\n",
            "--2021-11-29 12:57:27--  https://raw.githubusercontent.com/pdlmachado/GraphTheory-JGraphT/master/src/main/java/graphs/pseudograph-Aula02.gml\n",
            "Resolving raw.githubusercontent.com (raw.githubusercontent.com)... 185.199.108.133, 185.199.109.133, 185.199.110.133, ...\n",
            "Connecting to raw.githubusercontent.com (raw.githubusercontent.com)|185.199.108.133|:443... connected.\n",
            "HTTP request sent, awaiting response... 200 OK\n",
            "Length: 4183 (4.1K) [text/plain]\n",
            "Saving to: ‘pseudograph-Aula02.gml’\n",
            "\n",
            "pseudograph-Aula02. 100%[===================>]   4.08K  --.-KB/s    in 0s      \n",
            "\n",
            "2021-11-29 12:57:27 (55.9 MB/s) - ‘pseudograph-Aula02.gml’ saved [4183/4183]\n",
            "\n",
            "--2021-11-29 12:57:27--  https://raw.githubusercontent.com/pdlmachado/GraphTheory-JGraphT/master/src/main/java/graphs/cycle5.gml\n",
            "Resolving raw.githubusercontent.com (raw.githubusercontent.com)... 185.199.108.133, 185.199.109.133, 185.199.110.133, ...\n",
            "Connecting to raw.githubusercontent.com (raw.githubusercontent.com)|185.199.108.133|:443... connected.\n",
            "HTTP request sent, awaiting response... 200 OK\n",
            "Length: 1896 (1.9K) [text/plain]\n",
            "Saving to: ‘cycle5.gml’\n",
            "\n",
            "cycle5.gml          100%[===================>]   1.85K  --.-KB/s    in 0.001s  \n",
            "\n",
            "2021-11-29 12:57:27 (2.78 MB/s) - ‘cycle5.gml’ saved [1896/1896]\n",
            "\n"
          ]
        }
      ]
    },
    {
      "cell_type": "markdown",
      "metadata": {
        "id": "VwZT-ViLd_pe"
      },
      "source": [
        "# Tarefa 01"
      ]
    },
    {
      "cell_type": "markdown",
      "metadata": {
        "id": "NDVphHjPo-0-"
      },
      "source": [
        "## Descrição\n",
        "O objetivo é criar um programa para construir o grafo G = (V(G),E(G)), onde V(G)={a,b,c,d} e E(G)={ab,ac,cd,ad}\n"
      ]
    },
    {
      "cell_type": "code",
      "metadata": {
        "id": "IA9pcr3nGLEd",
        "colab": {
          "base_uri": "https://localhost:8080/",
          "height": 340
        },
        "outputId": "cb324eb3-d4f9-46c7-86dd-8c00c80f1fa6"
      },
      "source": [
        "# Criando o objeto grafo\n",
        "# O grafo é simples, não-direcionado e não-ponderado\n",
        "g = jgrapht.create_graph()\n",
        "\n",
        "# Defina um dicionário com identificadores e atributos dos vértices\n",
        "v_attrs = {\n",
        "    0 : {'label' : 'a'},\n",
        "    1 : {'label' : 'b'},\n",
        "    2 : {'label' : 'c'},\n",
        "    3 : {'label' : 'd'}\n",
        "} \n",
        "\n",
        "g.add_vertices_from([x for x in range(0,4)])\n",
        "g.add_edge(0,1,edge=0)\n",
        "g.add_edge(0,2,edge=1)\n",
        "g.add_edge(2,3,edge=2)\n",
        "g.add_edge(0,3,edge=4)\n",
        " \n",
        "\n",
        "# Adicione os vértices\n",
        "g.add_vertex(0)\n",
        "g.add_vertices_from([0,1,2,3])\n",
        "\n",
        "# Adicione as arestas\n",
        "\n",
        "\n",
        "# Imprima a quantidade de vértices e arestas do grafo invocando \n",
        "print(f'Quantidade de vértices: {len(g.vertices)}')\n",
        "\n",
        "print(f'Quantidade de arestas: {len(g.edges)}')\n",
        "# os métodos correspondentes\n",
        "\n",
        "# Apresente um desenho do grafo com os labels dos vértices\n",
        "draw_graph(g,vlabel='label',v_attrs=v_attrs,\n",
        "           elabel='label',e_attrs=e_attrs)"
      ],
      "execution_count": null,
      "outputs": [
        {
          "output_type": "stream",
          "name": "stdout",
          "text": [
            "Quantidade de vértices: 4\n",
            "Quantidade de arestas: 4\n"
          ]
        },
        {
          "output_type": "display_data",
          "data": {
            "image/png": "[encoded data removed]",
            "text/plain": [
              "<Figure size 576x360 with 1 Axes>"
            ]
          },
          "metadata": {
            "needs_background": "light"
          }
        }
      ]
    },
    {
      "cell_type": "markdown",
      "metadata": {
        "id": "ot0HL2OMBo2i"
      },
      "source": [
        "## Testes Automáticos"
      ]
    },
    {
      "cell_type": "code",
      "metadata": {
        "colab": {
          "base_uri": "https://localhost:8080/"
        },
        "id": "by-E1OZ7BsjN",
        "outputId": "dc0ab662-403f-4e1d-93cb-2b883e54a001"
      },
      "source": [
        "class TestSimpleGraph (unittest.TestCase):\n",
        "  def test01 (self):\n",
        "    self.assertEqual(g.number_of_vertices,4)\n",
        "    self.assertEqual(g.number_of_edges,4)\n",
        "  \n",
        "  def test02 (self):\n",
        "    self.assertCountEqual([v_attrs[v]['label'] for v in g.vertices],['a','b','c','d'])\n",
        "\n",
        "  def test03 (self):\n",
        "    a = get_vertexid('a',v_attrs)\n",
        "    self.assertTrue(all(g.contains_edge_between(a,x) for x in g.vertices if not x == a))\n",
        "\n",
        "  def test04 (self):\n",
        "    c = get_vertexid('c',v_attrs)\n",
        "    d = get_vertexid('d',v_attrs)\n",
        "    self.assertTrue(g.contains_edge_between(c,d))\n",
        "\n",
        "\n",
        "# call your test\n",
        "suite = unittest.TestSuite()\n",
        "suite.addTest(TestSimpleGraph('test01'))\n",
        "suite.addTest(TestSimpleGraph('test02'))\n",
        "suite.addTest(TestSimpleGraph('test03'))\n",
        "suite.addTest(TestSimpleGraph('test04'))\n",
        "unittest.TextTestRunner(verbosity=2).run(suite)\n"
      ],
      "execution_count": null,
      "outputs": [
        {
          "output_type": "stream",
          "name": "stderr",
          "text": [
            "test01 (__main__.TestSimpleGraph) ... ok\n",
            "test02 (__main__.TestSimpleGraph) ... ok\n",
            "test03 (__main__.TestSimpleGraph) ... ok\n",
            "test04 (__main__.TestSimpleGraph) ... ok\n",
            "\n",
            "----------------------------------------------------------------------\n",
            "Ran 4 tests in 0.014s\n",
            "\n",
            "OK\n"
          ]
        },
        {
          "output_type": "execute_result",
          "data": {
            "text/plain": [
              "<unittest.runner.TextTestResult run=4 errors=0 failures=0>"
            ]
          },
          "metadata": {},
          "execution_count": 149
        }
      ]
    },
    {
      "cell_type": "markdown",
      "metadata": {
        "id": "oRMi2AfEkEsA"
      },
      "source": [
        "# Tarefa 02"
      ]
    },
    {
      "cell_type": "markdown",
      "metadata": {
        "id": "UuL71RXmcnGw"
      },
      "source": [
        "## Descrição\n",
        "\n",
        "Implemente uma função que importa um grafo no formato gml e calcula a sua matriz de adjacências. A matriz deve ser armazenada em uma lista de listas, onde cada lista representa uma linha da matriz de acordo com o exemplo abaixo.\n",
        "\n",
        "Entrada:\n",
        "V(G) = {a,b,c}\n",
        "E(G) = {ab,bc,aa}\n",
        "\n",
        "Saída: \n",
        "\n",
        "[[2,1,0],\n",
        " [1,0,1],\n",
        " [0,1,0]]"
      ]
    },
    {
      "cell_type": "code",
      "metadata": {
        "colab": {
          "base_uri": "https://localhost:8080/"
        },
        "id": "2_NNFAjWbpFe",
        "outputId": "a31306cf-16aa-4e65-ee79-d584b394ff36"
      },
      "source": [
        "#@title  { run: \"auto\", vertical-output: true }\n",
        "filename = \"pseudograph-Aula02.gml\" #@param [\"bp1.gml\", \"cubo.gml\", \"acyclic.gml\", \"K5.gml\", \"pseudograph-Aula02.gml\", \"cycle5.gml\"]\n",
        "layout = \"fruchterman_reingold\" #@param [\"random\", \"circular\", \"fruchterman_reingold\", \"fruchterman_reingold_indexed\"]\n",
        "\n",
        "def adjacency_matriz (g):\n",
        "  # ESCREVA AQUI O SEU CÓDIGO\n",
        "    result = []\n",
        "    v_attrs = g.vertices\n",
        "    e_attrs = g.edges\n",
        "    for v1 in v_attrs:\n",
        "        lista = []\n",
        "        for v2 in v_attrs:\n",
        "            contador = 0\n",
        "            for edge in e_attrs:\n",
        "                 if g.edge_source(edge) == v1 and g.edge_target(edge) == v2:   \n",
        "                   contador += 1               \n",
        "                 if g.edge_source(edge) == v2 and g.edge_target(edge) == v1:                       \n",
        "                   contador += 1\n",
        "            lista.append(contador)\n",
        "        result.append(lista)\n",
        "\n",
        "    return result\n",
        "      \n",
        "\n",
        "\n",
        "# Criando o grafo\n",
        "g = jgrapht.create_graph(directed=False,weighted=False, \n",
        "                         allowing_self_loops=True,\n",
        "                         allowing_multiple_edges=True)\n",
        "\n",
        "v_attrs = {}\n",
        "e_attrs = {}\n",
        "\n",
        "import_gml(g,v_attrs,e_attrs,filename)\n",
        "print(g)\n",
        "\n",
        "# Desenhando o grafo e imprimindo a matriz\n",
        "if (jgrapht.properties.has_multipleedges(g) or \n",
        "    jgrapht.properties.has_selfloops(g)):\n",
        "  print(\"Não é possível desenhar: Multigrafo ou Pseudografo\\n\")\n",
        "else:     \n",
        "  draw_graph(g,layout,vlabel='label',v_attrs=v_attrs)\n",
        "  print('  {}'.format(' '.join([v_attrs[x]['label'] for x in g.vertices])))\n",
        "adj = adjacency_matriz(g)\n",
        "for l in range(len(adj)):\n",
        "  print('{} {}'.format(v_attrs[l]['label'],' '.join(map(str,adj[l]))))\n",
        "    \n",
        "  \n",
        "\n"
      ],
      "execution_count": null,
      "outputs": [
        {
          "output_type": "stream",
          "name": "stdout",
          "text": [
            "({0, 1, 2, 3, 4}, {0={0,1}, 1={1,2}, 2={2,3}, 3={3,2}, 4={4,3}, 5={0,3}, 6={3,1}, 7={0,0}})\n",
            "Não é possível desenhar: Multigrafo ou Pseudografo\n",
            "\n",
            "a 2 1 0 1 0\n",
            "b 1 0 1 1 0\n",
            "c 0 1 0 2 0\n",
            "d 1 1 2 0 1\n",
            "e 0 0 0 1 0\n"
          ]
        }
      ]
    },
    {
      "cell_type": "markdown",
      "metadata": {
        "id": "mvUlPWxo1Vi4"
      },
      "source": [
        "## Testes Automáticos"
      ]
    },
    {
      "cell_type": "code",
      "metadata": {
        "colab": {
          "base_uri": "https://localhost:8080/"
        },
        "id": "Cj-Fzz_cd0R5",
        "outputId": "3ad45478-7183-4321-e04e-9d96c8fa7cda"
      },
      "source": [
        "#Testes para a função adjacency_matrix\n",
        "\n",
        "class TestAdjMatrix(unittest.TestCase):\n",
        "\n",
        "    def test_empty(self):\n",
        "      g1 = jgrapht.create_graph(directed=False,weighted=False)\n",
        "      expected = []\n",
        "      self.assertEqual(adjacency_matriz (g1),expected)\n",
        "    \n",
        "    def test_pseudograph(self):\n",
        "        g1 = jgrapht.create_graph(directed=False,weighted=False,\n",
        "                                  allowing_self_loops=True,\n",
        "                                  allowing_multiple_edges=True)\n",
        "        g1.add_vertices_from([0,1])\n",
        "        g1.add_edges_from([(0,0),(0,0),(1,1)])\n",
        "        expected = [[4,0],\n",
        "                    [0,2]]\n",
        "        self.assertEqual(adjacency_matriz (g1),expected)\n",
        "\n",
        "    def test_multigraph(self):\n",
        "        g1 = jgrapht.create_graph(directed=False,weighted=False,\n",
        "                                  allowing_multiple_edges=True)\n",
        "        g1.add_vertices_from([0,1,2,3])\n",
        "        g1.add_edges_from([(0,1),(0,2),(0,3),(1,3),(2,3),(1,3)])\n",
        "        expected = [[0,1,1,1],\n",
        "                    [1,0,0,2],\n",
        "                    [1,0,0,1],\n",
        "                    [1,2,1,0]]\n",
        "        self.assertEqual(adjacency_matriz (g1),expected)\n",
        "\n",
        "    def test_simplegraph(self):\n",
        "        g1 = jgrapht.create_graph(directed=False,weighted=False)\n",
        "        g1.add_vertices_from([0,1,2,3])\n",
        "        g1.add_edges_from([(0,1),(0,2),(0,3),(1,3),(2,3)])\n",
        "        expected = [[0,1,1,1],\n",
        "                    [1,0,0,1],\n",
        "                    [1,0,0,1],\n",
        "                    [1,1,1,0]]\n",
        "        self.assertEqual(adjacency_matriz (g1),expected)\n",
        "\n",
        "\n",
        "# call your test\n",
        "suite = unittest.TestSuite()\n",
        "suite.addTest(TestAdjMatrix('test_empty'))\n",
        "suite.addTest(TestAdjMatrix('test_pseudograph'))\n",
        "suite.addTest(TestAdjMatrix('test_multigraph'))\n",
        "suite.addTest(TestAdjMatrix('test_simplegraph'))\n",
        "unittest.TextTestRunner(verbosity=2).run(suite)\n"
      ],
      "execution_count": null,
      "outputs": [
        {
          "output_type": "stream",
          "name": "stderr",
          "text": [
            "test_empty (__main__.TestAdjMatrix) ... ok\n",
            "test_pseudograph (__main__.TestAdjMatrix) ... ok\n",
            "test_multigraph (__main__.TestAdjMatrix) ... ok\n",
            "test_simplegraph (__main__.TestAdjMatrix) ... ok\n",
            "\n",
            "----------------------------------------------------------------------\n",
            "Ran 4 tests in 0.016s\n",
            "\n",
            "OK\n"
          ]
        },
        {
          "output_type": "execute_result",
          "data": {
            "text/plain": [
              "<unittest.runner.TextTestResult run=4 errors=0 failures=0>"
            ]
          },
          "metadata": {},
          "execution_count": 151
        }
      ]
    }
  ]
}